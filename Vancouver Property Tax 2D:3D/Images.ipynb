{
 "cells": [
  {
   "cell_type": "markdown",
   "metadata": {},
   "source": [
    "Image Link: https://upload.wikimedia.org/wikipedia/en/7/7d/Lenna_%28test_image%29.png?download"
   ]
  },
  {
   "cell_type": "code",
   "execution_count": 1,
   "metadata": {},
   "outputs": [],
   "source": [
    "# Reading, displaying and saving an image.\n",
    "\n",
    "# Importing matplotlib pyplot and image.\n",
    "import matplotlib.pyplot as plt\n",
    "import matplotlib.image as mpimg\n",
    "\n",
    "# Reading the image from the disk.\n",
    "image = mpimg.imread('Lenna_test.png')\n",
    "\n",
    "# Displaying the image.\n",
    "plt.imshow(image)\n",
    "\n",
    "# Saving the image on the disk.\n",
    "plt.imsave('save_Lenna.png', image, format = 'png')"
   ]
  },
  {
   "cell_type": "code",
   "execution_count": 2,
   "metadata": {},
   "outputs": [
    {
     "data": {
      "text/plain": [
       "array([[[0.8862745 , 0.5372549 , 0.49019608],\n",
       "        [0.8862745 , 0.5372549 , 0.49019608],\n",
       "        [0.8745098 , 0.5372549 , 0.52156866],\n",
       "        ...,\n",
       "        [0.9019608 , 0.5803922 , 0.47843137],\n",
       "        [0.8666667 , 0.50980395, 0.43137255],\n",
       "        [0.78431374, 0.3882353 , 0.3529412 ]],\n",
       "\n",
       "       [[0.8862745 , 0.5372549 , 0.49019608],\n",
       "        [0.8862745 , 0.5372549 , 0.49019608],\n",
       "        [0.8745098 , 0.5372549 , 0.52156866],\n",
       "        ...,\n",
       "        [0.9019608 , 0.5803922 , 0.47843137],\n",
       "        [0.8666667 , 0.50980395, 0.43137255],\n",
       "        [0.78431374, 0.3882353 , 0.3529412 ]],\n",
       "\n",
       "       [[0.8862745 , 0.5372549 , 0.49019608],\n",
       "        [0.8862745 , 0.5372549 , 0.49019608],\n",
       "        [0.8745098 , 0.5372549 , 0.52156866],\n",
       "        ...,\n",
       "        [0.9019608 , 0.5803922 , 0.47843137],\n",
       "        [0.8666667 , 0.50980395, 0.43137255],\n",
       "        [0.78431374, 0.3882353 , 0.3529412 ]],\n",
       "\n",
       "       ...,\n",
       "\n",
       "       [[0.32941177, 0.07058824, 0.23529412],\n",
       "        [0.32941177, 0.07058824, 0.23529412],\n",
       "        [0.36078432, 0.10588235, 0.22745098],\n",
       "        ...,\n",
       "        [0.6784314 , 0.28627452, 0.32941177],\n",
       "        [0.6745098 , 0.26666668, 0.29803923],\n",
       "        [0.69411767, 0.24313726, 0.30980393]],\n",
       "\n",
       "       [[0.32156864, 0.08627451, 0.22352941],\n",
       "        [0.32156864, 0.08627451, 0.22352941],\n",
       "        [0.3764706 , 0.1254902 , 0.24313726],\n",
       "        ...,\n",
       "        [0.7019608 , 0.27450982, 0.30980393],\n",
       "        [0.70980394, 0.2784314 , 0.31764707],\n",
       "        [0.7254902 , 0.2901961 , 0.31764707]],\n",
       "\n",
       "       [[0.32156864, 0.08627451, 0.22352941],\n",
       "        [0.32156864, 0.08627451, 0.22352941],\n",
       "        [0.3764706 , 0.1254902 , 0.24313726],\n",
       "        ...,\n",
       "        [0.7019608 , 0.27450982, 0.30980393],\n",
       "        [0.70980394, 0.2784314 , 0.31764707],\n",
       "        [0.7254902 , 0.2901961 , 0.31764707]]], dtype=float32)"
      ]
     },
     "execution_count": 2,
     "metadata": {},
     "output_type": "execute_result"
    }
   ],
   "source": [
    "image"
   ]
  },
  {
   "cell_type": "code",
   "execution_count": null,
   "metadata": {},
   "outputs": [],
   "source": []
  }
 ],
 "metadata": {
  "kernelspec": {
   "display_name": "Python 3",
   "language": "python",
   "name": "python3"
  },
  "language_info": {
   "codemirror_mode": {
    "name": "ipython",
    "version": 3
   },
   "file_extension": ".py",
   "mimetype": "text/x-python",
   "name": "python",
   "nbconvert_exporter": "python",
   "pygments_lexer": "ipython3",
   "version": "3.7.2"
  }
 },
 "nbformat": 4,
 "nbformat_minor": 2
}
